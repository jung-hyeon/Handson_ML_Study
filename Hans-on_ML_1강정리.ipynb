{
 "cells": [
  {
   "cell_type": "markdown",
   "id": "20d13a18",
   "metadata": {},
   "source": [
    " # Basic_박정현"
   ]
  },
  {
   "cell_type": "markdown",
   "id": "8a356a96",
   "metadata": {},
   "source": [
    "# 1번"
   ]
  },
  {
   "cell_type": "code",
   "execution_count": 1,
   "id": "e5515207",
   "metadata": {},
   "outputs": [
    {
     "name": "stdout",
     "output_type": "stream",
     "text": [
      "14\n",
      "6\n",
      "5 13 2 8 11 4 10 1 0 12 9 7 6 3\n",
      "5 2 4 1 0 6 3\n"
     ]
    }
   ],
   "source": [
    "import random\n",
    "\n",
    "N = int(input())\n",
    "X = int(input())\n",
    "\n",
    "numdata = list(range(N))\n",
    "resultdata = []\n",
    "random.shuffle(numdata)\n",
    "\n",
    "# 전체 수열 출력\n",
    "print(\" \".join(map(str, numdata)))\n",
    "\n",
    "# X이하의 수 추출\n",
    "for i in numdata:\n",
    "    if i <= X: resultdata.append(i)\n",
    "\n",
    "print(\" \".join(map(str, resultdata)))"
   ]
  },
  {
   "cell_type": "markdown",
   "id": "d4e9a5cc",
   "metadata": {},
   "source": [
    "# 2번"
   ]
  },
  {
   "cell_type": "code",
   "execution_count": 2,
   "id": "da8cca25",
   "metadata": {},
   "outputs": [
    {
     "data": {
      "image/png": "[encoded data removed]",
      "text/plain": [
       "<Figure size 432x288 with 1 Axes>"
      ]
     },
     "metadata": {
      "needs_background": "light"
     },
     "output_type": "display_data"
    }
   ],
   "source": [
    "import matplotlib.pyplot as plt\n",
    "import pandas as pd\n",
    "\n",
    "data = pd.read_csv(\"data.csv\")\n",
    "\n",
    "x = data['x']\n",
    "y = data['y']\n",
    "\n",
    "plt.plot(x,y)\n",
    "plt.title('heart') \n",
    "plt.xlabel(\"x\") \n",
    "plt.ylabel(\"y\")\n",
    "\n",
    "\n",
    "plt.show()"
   ]
  },
  {
   "cell_type": "markdown",
   "id": "f6e01fd1",
   "metadata": {},
   "source": [
    "# 3번"
   ]
  },
  {
   "cell_type": "code",
   "execution_count": 3,
   "id": "c789096d",
   "metadata": {},
   "outputs": [
    {
     "name": "stdout",
     "output_type": "stream",
     "text": [
      "3\n",
      "5\n",
      "4\n",
      "직각삼각형\n"
     ]
    }
   ],
   "source": [
    "X = int(input())\n",
    "Y = int(input())\n",
    "Z = int(input())\n",
    "\n",
    "sidelist = [X,Y,Z]\n",
    "sidelist.sort()\n",
    "\n",
    "# 삼각형 판단\n",
    "if sidelist[2] > sidelist[0] + sidelist[1]:\n",
    "    print(\"NO\")\n",
    "elif sidelist[0]**2 + sidelist[1]**2 == sidelist[2]**2:\n",
    "    print(\"직각삼각형\")\n",
    "elif sidelist[0]**2 + sidelist[1]**2 > sidelist[2]**2:\n",
    "    print(\"예각삼각형\")\n",
    "else :\n",
    "    print(\"둔각삼각형\")\n"
   ]
  },
  {
   "cell_type": "markdown",
   "id": "8278cd2d",
   "metadata": {},
   "source": [
    "# 4번"
   ]
  },
  {
   "cell_type": "code",
   "execution_count": 5,
   "id": "c788b358",
   "metadata": {
    "scrolled": true
   },
   "outputs": [
    {
     "name": "stdout",
     "output_type": "stream",
     "text": [
      "1 3\n",
      "2 2\n",
      "2 4\n",
      "4 2\n",
      "4 4\n",
      "1.00\n"
     ]
    }
   ],
   "source": [
    "import numpy as np\n",
    "\n",
    "# 점과 점 사이의 거리\n",
    "def dot_dist(dota,dotb):\n",
    "    return abs(((dota[0]-dotb[0])**2 + (dota[1]-dotb[0])**2)**0.5)\n",
    "\n",
    "# 한 점과 직선사이의 거리\n",
    "def dot_line_dist(x1, y1, x2, y2, a, b):\n",
    "    area = abs((x1-a) * (y2-b) - (y1-b) * (x2 - a))\n",
    "    AB = ((x1-x2)**2 + (y1-y2)**2) **0.5\n",
    "    distance = area/AB\n",
    "    return distance\n",
    "\n",
    "# 내적 구하기\n",
    "def cal_inner(X, Y, A):\n",
    "    v1 = [X[0]-Y[0], X[1]-Y[1]]\n",
    "    v2 = [X[0]-A[0], X[1]-A[1]]\n",
    "    return np.dot(v1, v2)\n",
    "\n",
    "# 한 점과 선분까지의 최단 거리 구하기\n",
    "def min_dist(X, Y, A):\n",
    "    inner1 = cal_inner(X, Y, A)  # X기준\n",
    "    inner2 = cal_inner(Y, X, A)  # Y기준\n",
    "    if (inner1 > 0 and inner2 >0): \n",
    "        result = dot_line_dist(X[0],X[1],Y[0],Y[1],A[0],A[1])\n",
    "    elif inner1 <= 0:\n",
    "        result = dot_dist(X, A)\n",
    "    elif inner2 <= 0:\n",
    "        result = dot_dist(Y, A)\n",
    "    return result\n",
    "\n",
    "dot_A = list(map(int, input().split(\" \")))\n",
    "dot1 = list(map(int, input().split(\" \")))\n",
    "dot2 = list(map(int, input().split(\" \")))\n",
    "dot3 = list(map(int, input().split(\" \")))\n",
    "dot4 = list(map(int, input().split(\" \")))\n",
    "\n",
    "distance_1 = [dot_dist(dot1, dot_A), dot1]\n",
    "distance_2 = [dot_dist(dot2, dot_A), dot2]\n",
    "distance_3 = [dot_dist(dot3, dot_A), dot3]\n",
    "distance_4 = [dot_dist(dot4, dot_A), dot4]\n",
    "\n",
    "distance_list = [distance_1, distance_2, distance_3, distance_4]\n",
    "distance_list.sort()\n",
    "\n",
    "# A와 가장 가까운 두 점 X,Y (사각형의 한 변 == 선분XY)\n",
    "X = distance_list[0][1]\n",
    "Y = distance_list[1][1]\n",
    "\n",
    "print(\"%0.2f\" %min_dist(X, Y, dot_A))"
   ]
  },
  {
   "cell_type": "markdown",
   "id": "a077c4e6",
   "metadata": {},
   "source": [
    "# 5번"
   ]
  },
  {
   "cell_type": "code",
   "execution_count": 6,
   "id": "95b64424",
   "metadata": {},
   "outputs": [
    {
     "name": "stdout",
     "output_type": "stream",
     "text": [
      "14 1\n",
      "9 4 11 13 2 0 10 12 1 8 5 3 7 6\n",
      "0 1 2 3 4 5 6 7 8 9 10 11 12 13\n"
     ]
    }
   ],
   "source": [
    "import random\n",
    "\n",
    "N, X = map(int, input().split(\" \"))\n",
    "numdata = list(range(N))\n",
    "random.shuffle(numdata)\n",
    "\n",
    "# 전체 수열 출력\n",
    "print(\" \".join(map(str, numdata)))\n",
    "\n",
    "if X == 1:\n",
    "    numdata.sort()\n",
    "elif X == 0:\n",
    "    numdata.sort(reverse = True)\n",
    "    \n",
    "print(\" \".join(map(str, numdata)))"
   ]
  }
 ],
 "metadata": {
  "kernelspec": {
   "display_name": "Python 3 (ipykernel)",
   "language": "python",
   "name": "python3"
  },
  "language_info": {
   "codemirror_mode": {
    "name": "ipython",
    "version": 3
   },
   "file_extension": ".py",
   "mimetype": "text/x-python",
   "name": "python",
   "nbconvert_exporter": "python",
   "pygments_lexer": "ipython3",
   "version": "3.9.7"
  }
 },
 "nbformat": 4,
 "nbformat_minor": 5
}
